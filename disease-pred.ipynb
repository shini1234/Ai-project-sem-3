{
 "cells": [
  {
   "cell_type": "code",
   "execution_count": 17,
   "id": "e575711c-f898-4c4a-8218-bb3edfccdfa3",
   "metadata": {},
   "outputs": [
    {
     "ename": "ModuleNotFoundError",
     "evalue": "No module named 'shap'",
     "output_type": "error",
     "traceback": [
      "\u001b[1;31m---------------------------------------------------------------------------\u001b[0m",
      "\u001b[1;31mModuleNotFoundError\u001b[0m                       Traceback (most recent call last)",
      "Cell \u001b[1;32mIn[17], line 8\u001b[0m\n\u001b[0;32m      6\u001b[0m \u001b[38;5;28;01mfrom\u001b[39;00m \u001b[38;5;21;01msklearn\u001b[39;00m\u001b[38;5;21;01m.\u001b[39;00m\u001b[38;5;21;01mpreprocessing\u001b[39;00m \u001b[38;5;28;01mimport\u001b[39;00m StandardScaler\n\u001b[0;32m      7\u001b[0m \u001b[38;5;28;01mfrom\u001b[39;00m \u001b[38;5;21;01msklearn\u001b[39;00m\u001b[38;5;21;01m.\u001b[39;00m\u001b[38;5;21;01mmodel_selection\u001b[39;00m \u001b[38;5;28;01mimport\u001b[39;00m train_test_split\n\u001b[1;32m----> 8\u001b[0m \u001b[38;5;28;01mimport\u001b[39;00m \u001b[38;5;21;01mshap\u001b[39;00m\n",
      "\u001b[1;31mModuleNotFoundError\u001b[0m: No module named 'shap'"
     ]
    }
   ],
   "source": [
    "import pandas as pd\n",
    "import numpy as np\n",
    "import tensorflow as tf\n",
    "from tensorflow.keras.layers import Input, Dense, Concatenate\n",
    "from tensorflow.keras.models import Model\n",
    "from sklearn.preprocessing import StandardScaler\n",
    "from sklearn.model_selection import train_test_split\n",
    "# import shap"
   ]
  },
  {
   "cell_type": "code",
   "execution_count": 19,
   "id": "34bb2f32-fa08-451f-b4c2-16237418eb5b",
   "metadata": {},
   "outputs": [],
   "source": [
    "diabetes_df = pd.read_csv(\"diabetes_prediction_dataset.csv\")\n",
    "framingham_df = pd.read_csv(\"framingham.csv\")"
   ]
  },
  {
   "cell_type": "code",
   "execution_count": 31,
   "id": "e6ef5cec-d9ca-4c05-9132-142f32685fc9",
   "metadata": {},
   "outputs": [],
   "source": [
    "diabetes_df = diabetes_df.rename(columns={\n",
    "    'bmi': 'BMI',  \n",
    "    'gender': 'sex'\n",
    "})\n",
    "framingham_df = framingham_df.rename(columns={\n",
    "    'male': 'sex' \n",
    "})\n",
    "\n",
    "diabetes_df['sex'] = diabetes_df['sex'].map({'Male':1, 'Female':0, 'Other':0})\n",
    "framingham_df['hypertension'] = framingham_df['prevalentHyp']\n",
    "\n",
    "shared_features = ['age', 'sex', 'BMI']\n",
    "diabetes_specific = ['HbA1c_level', 'blood_glucose_level','hypertension']\n",
    "heart_specific = ['sysBP', 'diaBP', 'totChol']\n",
    "\n",
    "def prepare_data(df, features, target):\n",
    "    \"\"\"Helper function to prepare data with error checking\"\"\"\n",
    "    missing_cols = [col for col in features + [target] if col not in df.columns]\n",
    "    if missing_cols:\n",
    "        raise ValueError(f\"Columns missing: {missing_cols}\")\n",
    "    df = df[features + [target]].dropna()\n",
    "    X = df[features]\n",
    "    y = df[target]\n",
    "    return train_test_split(X, y, test_size=0.2, random_state=42)"
   ]
  },
  {
   "cell_type": "code",
   "execution_count": 33,
   "id": "da519499-6bdb-4031-8445-e884bf72cf96",
   "metadata": {},
   "outputs": [
    {
     "name": "stdout",
     "output_type": "stream",
     "text": [
      "Data preparation error: With n_samples=0, test_size=0.2 and train_size=None, the resulting train set will be empty. Adjust any of the aforementioned parameters.\n",
      "\n",
      "Available columns in diabetes dataset: ['sex', 'age', 'hypertension', 'heart_disease', 'smoking_history', 'BMI', 'HbA1c_level', 'blood_glucose_level', 'diabetes', 'male']\n",
      "Available columns in Framingham dataset: ['sex', 'age', 'education', 'currentSmoker', 'cigsPerDay', 'BPMeds', 'prevalentStroke', 'prevalentHyp', 'diabetes', 'totChol', 'sysBP', 'diaBP', 'BMI', 'heartRate', 'glucose', 'TenYearCHD', 'hypertension']\n"
     ]
    }
   ],
   "source": [
    "try:\n",
    "    X_train_d, X_test_d, y_train_d, y_test_d = prepare_data(diabetes_df, shared_features + diabetes_specific, 'diabetes')\n",
    "    X_train_h, X_test_h, y_train_h, y_test_h = prepare_data(framingham_df, shared_features + heart_specific, 'TenYearCHD')\n",
    "except ValueError as e:\n",
    "    print(f\"Data preparation error: {e}\")\n",
    "    print(\"\\nAvailable columns in diabetes dataset:\", diabetes_df.columns.tolist())\n",
    "    print(\"Available columns in Framingham dataset:\", framingham_df.columns.tolist())"
   ]
  },
  {
   "cell_type": "code",
   "execution_count": 76,
   "id": "b3229551-5504-4bf3-923e-6285a5f3bd72",
   "metadata": {},
   "outputs": [
    {
     "name": "stdout",
     "output_type": "stream",
     "text": [
      "Aligned diabetes shape: (3337, 5)\n",
      "Aligned heart shape: (3337, 6)\n"
     ]
    }
   ],
   "source": [
    "import pandas as pd\n",
    "import numpy as np\n",
    "from sklearn.preprocessing import StandardScaler\n",
    "from sklearn.model_selection import train_test_split\n",
    "\n",
    "# Load datasets with dtype specification for mixed types\n",
    "diabetes_df = pd.read_csv(\"diabetes_prediction_dataset.csv\", dtype={'BMI': float})\n",
    "framingham_df = pd.read_csv(\"framingham.csv\", dtype={'BMI': float})\n",
    "\n",
    "# Standardize column names (confirmed from your error output)\n",
    "diabetes_df = diabetes_df.rename(columns={\n",
    "    'blood_glucose_level': 'glucose',\n",
    "    'bmi': 'BMI'\n",
    "})\n",
    "framingham_df = framingham_df.rename(columns={\n",
    "    'totChol': 'cholesterol',\n",
    "    'sysBP': 'systolic_bp',\n",
    "    'diaBP': 'diastolic_bp',\n",
    "    'male': 'gender' ,\n",
    "    'prevalentHyp' : 'hypertension'\n",
    "})\n",
    "\n",
    "diabetes_df['gender'] = diabetes_df['gender'].map({'Male':1, 'Female':0, 'Other':0})\n",
    "\n",
    "# Define FINAL feature sets (using verified column names)\n",
    "shared_features = ['age', 'gender', 'BMI']  \n",
    "diabetes_specific = ['HbA1c_level', 'glucose']\n",
    "heart_specific = ['systolic_bp', 'diastolic_bp', 'cholesterol']\n",
    "\n",
    "# Data cleaning pipeline\n",
    "def clean_data(df, features, target):\n",
    "    # Convert all feature columns to numeric, coercing errors\n",
    "    for col in features:\n",
    "        df[col] = pd.to_numeric(df[col], errors='coerce')\n",
    "    \n",
    "    # Drop rows where target is missing\n",
    "    df = df.dropna(subset=[target])\n",
    "    \n",
    "    # Drop rows with missing features\n",
    "    df_clean = df.dropna(subset=features)\n",
    "    \n",
    "    # Check if data remains\n",
    "    if len(df_clean) == 0:\n",
    "        raise ValueError(f\"No samples left after cleaning for target: {target}\")\n",
    "    \n",
    "    return df_clean[features], df_clean[target]\n",
    "\n",
    "# Prepare data\n",
    "X_d, y_d = clean_data(diabetes_df, shared_features + diabetes_specific, 'diabetes')\n",
    "X_h, y_h = clean_data(framingham_df, shared_features + heart_specific, 'TenYearCHD')\n",
    "\n",
    "# Align dataset sizes\n",
    "common_size = min(len(X_d), len(X_h))\n",
    "X_d = X_d.iloc[:common_size]\n",
    "y_d = y_d.iloc[:common_size]\n",
    "X_h = X_h.iloc[:common_size]\n",
    "y_h = y_h.iloc[:common_size]\n",
    "\n",
    "# Train-test split\n",
    "X_train_d, X_test_d, y_train_d, y_test_d = train_test_split(X_d, y_d, test_size=0.2, random_state=42)\n",
    "X_train_h, X_test_h, y_train_h, y_test_h = train_test_split(X_h, y_h, test_size=0.2, random_state=42)\n",
    "\n",
    "print(\"Aligned diabetes shape:\", X_train_d_aligned.shape)\n",
    "print(\"Aligned heart shape:\", X_train_h_aligned.shape)\n",
    "\n",
    "# Scale features\n",
    "scaler = StandardScaler()\n",
    "X_train_d[shared_features] = scaler.fit_transform(X_train_d[shared_features])\n",
    "X_test_d[shared_features] = scaler.transform(X_test_d[shared_features])\n",
    "X_train_h[shared_features] = scaler.fit_transform(X_train_h[shared_features])\n",
    "X_test_h[shared_features] = scaler.transform(X_test_h[shared_features])"
   ]
  },
  {
   "cell_type": "code",
   "execution_count": 78,
   "id": "178ace97-128a-4e92-929f-20d78fa44689",
   "metadata": {},
   "outputs": [],
   "source": [
    "# Cell 2: Model Construction\n",
    "# Shared trunk\n",
    "shared_input = Input(shape=(len(shared_features),), name='shared_input')\n",
    "x = Dense(64, activation='relu')(shared_input)\n",
    "\n",
    "# Diabetes branch\n",
    "diabetes_input = Input(shape=(len(diabetes_specific),), name='diabetes_input')\n",
    "diabetes_features = Concatenate()([shared_input, diabetes_input])\n",
    "diabetes_out = Dense(1, activation='sigmoid', name='diabetes')(Dense(32, activation='relu')(diabetes_features))\n",
    "\n",
    "# Heart branch\n",
    "heart_input = Input(shape=(len(heart_specific),), name='heart_input')\n",
    "heart_features = Concatenate()([shared_input, heart_input])\n",
    "heart_out = Dense(1, activation='sigmoid', name='heart')(Dense(32, activation='relu')(heart_features))\n",
    "\n",
    "# Combined model\n",
    "model = Model(\n",
    "    inputs=[shared_input, diabetes_input, heart_input],\n",
    "    outputs=[diabetes_out, heart_out]\n",
    ")\n",
    "\n",
    "model.compile(\n",
    "    optimizer='adam',\n",
    "    loss={'diabetes': 'binary_crossentropy', 'heart': 'binary_crossentropy'},\n",
    "    loss_weights=[0.4, 0.6],\n",
    "    metrics=['accuracy', tf.keras.metrics.AUC(name='auc')]\n",
    ")"
   ]
  },
  {
   "cell_type": "code",
   "execution_count": 86,
   "id": "a823f544-8684-4fd4-af21-baed75ad642b",
   "metadata": {},
   "outputs": [
    {
     "name": "stdout",
     "output_type": "stream",
     "text": [
      "Epoch 1/50\n"
     ]
    },
    {
     "name": "stderr",
     "output_type": "stream",
     "text": [
      "C:\\Users\\manan\\anaconda3\\Lib\\site-packages\\keras\\src\\models\\functional.py:225: UserWarning: The structure of `inputs` doesn't match the expected structure: ['shared_input', 'diabetes_input', 'heart_input']. Received: the structure of inputs=('*', '*', '*')\n",
      "  warnings.warn(\n"
     ]
    },
    {
     "name": "stdout",
     "output_type": "stream",
     "text": [
      "\u001b[1m105/105\u001b[0m \u001b[32m━━━━━━━━━━━━━━━━━━━━\u001b[0m\u001b[37m\u001b[0m \u001b[1m0s\u001b[0m 7ms/step - diabetes_accuracy: 0.5541 - diabetes_loss: 1.1039 - heart_auc: 0.4444 - heart_loss: 2.7163 - loss: 3.8202"
     ]
    },
    {
     "name": "stderr",
     "output_type": "stream",
     "text": [
      "C:\\Users\\manan\\anaconda3\\Lib\\site-packages\\keras\\src\\models\\functional.py:225: UserWarning: The structure of `inputs` doesn't match the expected structure: ['shared_input', 'diabetes_input', 'heart_input']. Received: the structure of inputs=('*', '*', '*')\n",
      "  warnings.warn(\n"
     ]
    },
    {
     "name": "stdout",
     "output_type": "stream",
     "text": [
      "\u001b[1m105/105\u001b[0m \u001b[32m━━━━━━━━━━━━━━━━━━━━\u001b[0m\u001b[37m\u001b[0m \u001b[1m7s\u001b[0m 16ms/step - diabetes_accuracy: 0.5554 - diabetes_loss: 1.1004 - heart_auc: 0.4443 - heart_loss: 2.7085 - loss: 3.8090 - val_diabetes_accuracy: 0.8958 - val_diabetes_loss: 0.1600 - val_heart_auc: 0.4017 - val_heart_loss: 0.5241 - val_loss: 0.6979\n",
      "Epoch 2/50\n",
      "\u001b[1m105/105\u001b[0m \u001b[32m━━━━━━━━━━━━━━━━━━━━\u001b[0m\u001b[37m\u001b[0m \u001b[1m1s\u001b[0m 7ms/step - diabetes_accuracy: 0.9159 - diabetes_loss: 0.1452 - heart_auc: 0.4122 - heart_loss: 0.4973 - loss: 0.6425 - val_diabetes_accuracy: 0.8958 - val_diabetes_loss: 0.1513 - val_heart_auc: 0.4182 - val_heart_loss: 0.4057 - val_loss: 0.5665\n",
      "Epoch 3/50\n",
      "\u001b[1m105/105\u001b[0m \u001b[32m━━━━━━━━━━━━━━━━━━━━\u001b[0m\u001b[37m\u001b[0m \u001b[1m1s\u001b[0m 6ms/step - diabetes_accuracy: 0.9181 - diabetes_loss: 0.1354 - heart_auc: 0.4144 - heart_loss: 0.3694 - loss: 0.5047 - val_diabetes_accuracy: 0.8958 - val_diabetes_loss: 0.1439 - val_heart_auc: 0.4443 - val_heart_loss: 0.3171 - val_loss: 0.4680\n",
      "Epoch 4/50\n",
      "\u001b[1m105/105\u001b[0m \u001b[32m━━━━━━━━━━━━━━━━━━━━\u001b[0m\u001b[37m\u001b[0m \u001b[1m1s\u001b[0m 7ms/step - diabetes_accuracy: 0.9186 - diabetes_loss: 0.1312 - heart_auc: 0.4584 - heart_loss: 0.3425 - loss: 0.4737 - val_diabetes_accuracy: 0.8958 - val_diabetes_loss: 0.1391 - val_heart_auc: 0.4380 - val_heart_loss: 0.2944 - val_loss: 0.4453\n",
      "Epoch 5/50\n",
      "\u001b[1m105/105\u001b[0m \u001b[32m━━━━━━━━━━━━━━━━━━━━\u001b[0m\u001b[37m\u001b[0m \u001b[1m1s\u001b[0m 7ms/step - diabetes_accuracy: 0.9191 - diabetes_loss: 0.1275 - heart_auc: 0.4897 - heart_loss: 0.2795 - loss: 0.4071 - val_diabetes_accuracy: 0.8958 - val_diabetes_loss: 0.1354 - val_heart_auc: 0.4232 - val_heart_loss: 0.2850 - val_loss: 0.4321\n",
      "Epoch 6/50\n",
      "\u001b[1m105/105\u001b[0m \u001b[32m━━━━━━━━━━━━━━━━━━━━\u001b[0m\u001b[37m\u001b[0m \u001b[1m1s\u001b[0m 7ms/step - diabetes_accuracy: 0.9215 - diabetes_loss: 0.1222 - heart_auc: 0.4813 - heart_loss: 0.3113 - loss: 0.4336 - val_diabetes_accuracy: 0.8958 - val_diabetes_loss: 0.1393 - val_heart_auc: 0.4461 - val_heart_loss: 0.2607 - val_loss: 0.4108\n",
      "Epoch 7/50\n",
      "\u001b[1m105/105\u001b[0m \u001b[32m━━━━━━━━━━━━━━━━━━━━\u001b[0m\u001b[37m\u001b[0m \u001b[1m1s\u001b[0m 6ms/step - diabetes_accuracy: 0.9113 - diabetes_loss: 0.1289 - heart_auc: 0.5138 - heart_loss: 0.2739 - loss: 0.4028 - val_diabetes_accuracy: 0.8958 - val_diabetes_loss: 0.1314 - val_heart_auc: 0.4667 - val_heart_loss: 0.2525 - val_loss: 0.3932\n",
      "Epoch 8/50\n",
      "\u001b[1m105/105\u001b[0m \u001b[32m━━━━━━━━━━━━━━━━━━━━\u001b[0m\u001b[37m\u001b[0m \u001b[1m1s\u001b[0m 7ms/step - diabetes_accuracy: 0.9179 - diabetes_loss: 0.1193 - heart_auc: 0.5246 - heart_loss: 0.2594 - loss: 0.3787 - val_diabetes_accuracy: 0.8946 - val_diabetes_loss: 0.1265 - val_heart_auc: 0.4896 - val_heart_loss: 0.2539 - val_loss: 0.3899\n",
      "Epoch 9/50\n",
      "\u001b[1m105/105\u001b[0m \u001b[32m━━━━━━━━━━━━━━━━━━━━\u001b[0m\u001b[37m\u001b[0m \u001b[1m1s\u001b[0m 7ms/step - diabetes_accuracy: 0.9149 - diabetes_loss: 0.1198 - heart_auc: 0.5282 - heart_loss: 0.2746 - loss: 0.3943 - val_diabetes_accuracy: 0.8958 - val_diabetes_loss: 0.1266 - val_heart_auc: 0.5123 - val_heart_loss: 0.2561 - val_loss: 0.3908\n",
      "Epoch 10/50\n",
      "\u001b[1m105/105\u001b[0m \u001b[32m━━━━━━━━━━━━━━━━━━━━\u001b[0m\u001b[37m\u001b[0m \u001b[1m1s\u001b[0m 7ms/step - diabetes_accuracy: 0.9153 - diabetes_loss: 0.1186 - heart_auc: 0.5566 - heart_loss: 0.2676 - loss: 0.3863 - val_diabetes_accuracy: 0.8958 - val_diabetes_loss: 0.1246 - val_heart_auc: 0.4779 - val_heart_loss: 0.3260 - val_loss: 0.4648\n",
      "Epoch 11/50\n",
      "\u001b[1m105/105\u001b[0m \u001b[32m━━━━━━━━━━━━━━━━━━━━\u001b[0m\u001b[37m\u001b[0m \u001b[1m1s\u001b[0m 7ms/step - diabetes_accuracy: 0.9150 - diabetes_loss: 0.1174 - heart_auc: 0.5104 - heart_loss: 0.2967 - loss: 0.4142 - val_diabetes_accuracy: 0.8946 - val_diabetes_loss: 0.1205 - val_heart_auc: 0.4956 - val_heart_loss: 0.2932 - val_loss: 0.4261\n",
      "Epoch 12/50\n",
      "\u001b[1m105/105\u001b[0m \u001b[32m━━━━━━━━━━━━━━━━━━━━\u001b[0m\u001b[37m\u001b[0m \u001b[1m1s\u001b[0m 7ms/step - diabetes_accuracy: 0.9125 - diabetes_loss: 0.1153 - heart_auc: 0.5158 - heart_loss: 0.2742 - loss: 0.3896 - val_diabetes_accuracy: 0.8958 - val_diabetes_loss: 0.1284 - val_heart_auc: 0.4952 - val_heart_loss: 0.2565 - val_loss: 0.3958\n",
      "Epoch 13/50\n",
      "\u001b[1m105/105\u001b[0m \u001b[32m━━━━━━━━━━━━━━━━━━━━\u001b[0m\u001b[37m\u001b[0m \u001b[1m1s\u001b[0m 7ms/step - diabetes_accuracy: 0.9167 - diabetes_loss: 0.1128 - heart_auc: 0.5228 - heart_loss: 0.2606 - loss: 0.3734 - val_diabetes_accuracy: 0.8922 - val_diabetes_loss: 0.1219 - val_heart_auc: 0.5292 - val_heart_loss: 0.2554 - val_loss: 0.3852\n",
      "Epoch 14/50\n",
      "\u001b[1m105/105\u001b[0m \u001b[32m━━━━━━━━━━━━━━━━━━━━\u001b[0m\u001b[37m\u001b[0m \u001b[1m1s\u001b[0m 7ms/step - diabetes_accuracy: 0.9071 - diabetes_loss: 0.1173 - heart_auc: 0.5367 - heart_loss: 0.2764 - loss: 0.3938 - val_diabetes_accuracy: 0.8970 - val_diabetes_loss: 0.1163 - val_heart_auc: 0.5569 - val_heart_loss: 0.2556 - val_loss: 0.3801\n",
      "Epoch 15/50\n",
      "\u001b[1m105/105\u001b[0m \u001b[32m━━━━━━━━━━━━━━━━━━━━\u001b[0m\u001b[37m\u001b[0m \u001b[1m1s\u001b[0m 8ms/step - diabetes_accuracy: 0.9172 - diabetes_loss: 0.1096 - heart_auc: 0.5112 - heart_loss: 0.2781 - loss: 0.3877 - val_diabetes_accuracy: 0.8970 - val_diabetes_loss: 0.1165 - val_heart_auc: 0.5409 - val_heart_loss: 0.2480 - val_loss: 0.3735\n",
      "Epoch 16/50\n",
      "\u001b[1m105/105\u001b[0m \u001b[32m━━━━━━━━━━━━━━━━━━━━\u001b[0m\u001b[37m\u001b[0m \u001b[1m1s\u001b[0m 7ms/step - diabetes_accuracy: 0.9144 - diabetes_loss: 0.1083 - heart_auc: 0.5647 - heart_loss: 0.2736 - loss: 0.3819 - val_diabetes_accuracy: 0.8970 - val_diabetes_loss: 0.1167 - val_heart_auc: 0.5105 - val_heart_loss: 0.2494 - val_loss: 0.3758\n",
      "Epoch 17/50\n",
      "\u001b[1m105/105\u001b[0m \u001b[32m━━━━━━━━━━━━━━━━━━━━\u001b[0m\u001b[37m\u001b[0m \u001b[1m1s\u001b[0m 6ms/step - diabetes_accuracy: 0.9099 - diabetes_loss: 0.1119 - heart_auc: 0.5501 - heart_loss: 0.2515 - loss: 0.3634 - val_diabetes_accuracy: 0.8922 - val_diabetes_loss: 0.1128 - val_heart_auc: 0.5739 - val_heart_loss: 0.2606 - val_loss: 0.3814\n",
      "Epoch 18/50\n",
      "\u001b[1m105/105\u001b[0m \u001b[32m━━━━━━━━━━━━━━━━━━━━\u001b[0m\u001b[37m\u001b[0m \u001b[1m1s\u001b[0m 8ms/step - diabetes_accuracy: 0.9139 - diabetes_loss: 0.1052 - heart_auc: 0.5159 - heart_loss: 0.2725 - loss: 0.3778 - val_diabetes_accuracy: 0.8982 - val_diabetes_loss: 0.1140 - val_heart_auc: 0.5668 - val_heart_loss: 0.2499 - val_loss: 0.3726\n",
      "Epoch 19/50\n",
      "\u001b[1m105/105\u001b[0m \u001b[32m━━━━━━━━━━━━━━━━━━━━\u001b[0m\u001b[37m\u001b[0m \u001b[1m1s\u001b[0m 8ms/step - diabetes_accuracy: 0.9129 - diabetes_loss: 0.1065 - heart_auc: 0.5286 - heart_loss: 0.2695 - loss: 0.3759 - val_diabetes_accuracy: 0.8970 - val_diabetes_loss: 0.1153 - val_heart_auc: 0.5877 - val_heart_loss: 0.2582 - val_loss: 0.3818\n",
      "Epoch 20/50\n",
      "\u001b[1m105/105\u001b[0m \u001b[32m━━━━━━━━━━━━━━━━━━━━\u001b[0m\u001b[37m\u001b[0m \u001b[1m1s\u001b[0m 6ms/step - diabetes_accuracy: 0.9111 - diabetes_loss: 0.1078 - heart_auc: 0.5583 - heart_loss: 0.2705 - loss: 0.3784 - val_diabetes_accuracy: 0.8982 - val_diabetes_loss: 0.1096 - val_heart_auc: 0.5281 - val_heart_loss: 0.2618 - val_loss: 0.3795\n",
      "Epoch 21/50\n",
      "\u001b[1m105/105\u001b[0m \u001b[32m━━━━━━━━━━━━━━━━━━━━\u001b[0m\u001b[37m\u001b[0m \u001b[1m1s\u001b[0m 7ms/step - diabetes_accuracy: 0.9218 - diabetes_loss: 0.0980 - heart_auc: 0.4934 - heart_loss: 0.2781 - loss: 0.3761 - val_diabetes_accuracy: 0.8994 - val_diabetes_loss: 0.1121 - val_heart_auc: 0.5956 - val_heart_loss: 0.2918 - val_loss: 0.4113\n",
      "Epoch 22/50\n",
      "\u001b[1m105/105\u001b[0m \u001b[32m━━━━━━━━━━━━━━━━━━━━\u001b[0m\u001b[37m\u001b[0m \u001b[1m1s\u001b[0m 7ms/step - diabetes_accuracy: 0.9150 - diabetes_loss: 0.1030 - heart_auc: 0.5473 - heart_loss: 0.2661 - loss: 0.3692 - val_diabetes_accuracy: 0.9018 - val_diabetes_loss: 0.1074 - val_heart_auc: 0.5926 - val_heart_loss: 0.2926 - val_loss: 0.4072\n",
      "Epoch 23/50\n",
      "\u001b[1m105/105\u001b[0m \u001b[32m━━━━━━━━━━━━━━━━━━━━\u001b[0m\u001b[37m\u001b[0m \u001b[1m1s\u001b[0m 6ms/step - diabetes_accuracy: 0.9199 - diabetes_loss: 0.1023 - heart_auc: 0.5263 - heart_loss: 0.2892 - loss: 0.3915 - val_diabetes_accuracy: 0.9018 - val_diabetes_loss: 0.1065 - val_heart_auc: 0.5619 - val_heart_loss: 0.2546 - val_loss: 0.3711\n",
      "Epoch 24/50\n",
      "\u001b[1m105/105\u001b[0m \u001b[32m━━━━━━━━━━━━━━━━━━━━\u001b[0m\u001b[37m\u001b[0m \u001b[1m1s\u001b[0m 7ms/step - diabetes_accuracy: 0.9276 - diabetes_loss: 0.0944 - heart_auc: 0.5554 - heart_loss: 0.2673 - loss: 0.3618 - val_diabetes_accuracy: 0.8982 - val_diabetes_loss: 0.1122 - val_heart_auc: 0.5678 - val_heart_loss: 0.2497 - val_loss: 0.3716\n",
      "Epoch 25/50\n",
      "\u001b[1m105/105\u001b[0m \u001b[32m━━━━━━━━━━━━━━━━━━━━\u001b[0m\u001b[37m\u001b[0m \u001b[1m1s\u001b[0m 5ms/step - diabetes_accuracy: 0.9268 - diabetes_loss: 0.0914 - heart_auc: 0.5590 - heart_loss: 0.2621 - loss: 0.3536 - val_diabetes_accuracy: 0.9066 - val_diabetes_loss: 0.1073 - val_heart_auc: 0.5612 - val_heart_loss: 0.2684 - val_loss: 0.3836\n",
      "Epoch 26/50\n",
      "\u001b[1m105/105\u001b[0m \u001b[32m━━━━━━━━━━━━━━━━━━━━\u001b[0m\u001b[37m\u001b[0m \u001b[1m1s\u001b[0m 5ms/step - diabetes_accuracy: 0.9192 - diabetes_loss: 0.1020 - heart_auc: 0.5508 - heart_loss: 0.2672 - loss: 0.3692 - val_diabetes_accuracy: 0.9042 - val_diabetes_loss: 0.1038 - val_heart_auc: 0.5704 - val_heart_loss: 0.2503 - val_loss: 0.3633\n",
      "Epoch 27/50\n",
      "\u001b[1m105/105\u001b[0m \u001b[32m━━━━━━━━━━━━━━━━━━━━\u001b[0m\u001b[37m\u001b[0m \u001b[1m1s\u001b[0m 7ms/step - diabetes_accuracy: 0.9196 - diabetes_loss: 0.0960 - heart_auc: 0.5533 - heart_loss: 0.2646 - loss: 0.3605 - val_diabetes_accuracy: 0.8994 - val_diabetes_loss: 0.1059 - val_heart_auc: 0.5504 - val_heart_loss: 0.2709 - val_loss: 0.3879\n",
      "Epoch 28/50\n",
      "\u001b[1m105/105\u001b[0m \u001b[32m━━━━━━━━━━━━━━━━━━━━\u001b[0m\u001b[37m\u001b[0m \u001b[1m1s\u001b[0m 7ms/step - diabetes_accuracy: 0.9236 - diabetes_loss: 0.0971 - heart_auc: 0.5682 - heart_loss: 0.2825 - loss: 0.3795 - val_diabetes_accuracy: 0.8958 - val_diabetes_loss: 0.1134 - val_heart_auc: 0.5717 - val_heart_loss: 0.2527 - val_loss: 0.3764\n",
      "Epoch 29/50\n",
      "\u001b[1m105/105\u001b[0m \u001b[32m━━━━━━━━━━━━━━━━━━━━\u001b[0m\u001b[37m\u001b[0m \u001b[1m1s\u001b[0m 7ms/step - diabetes_accuracy: 0.9222 - diabetes_loss: 0.0904 - heart_auc: 0.5600 - heart_loss: 0.2599 - loss: 0.3503 - val_diabetes_accuracy: 0.9054 - val_diabetes_loss: 0.1004 - val_heart_auc: 0.5592 - val_heart_loss: 0.2712 - val_loss: 0.3829\n",
      "Epoch 30/50\n",
      "\u001b[1m105/105\u001b[0m \u001b[32m━━━━━━━━━━━━━━━━━━━━\u001b[0m\u001b[37m\u001b[0m \u001b[1m1s\u001b[0m 8ms/step - diabetes_accuracy: 0.9315 - diabetes_loss: 0.0870 - heart_auc: 0.5220 - heart_loss: 0.3001 - loss: 0.3871 - val_diabetes_accuracy: 0.9102 - val_diabetes_loss: 0.0999 - val_heart_auc: 0.5525 - val_heart_loss: 0.2514 - val_loss: 0.3610\n",
      "Epoch 31/50\n",
      "\u001b[1m105/105\u001b[0m \u001b[32m━━━━━━━━━━━━━━━━━━━━\u001b[0m\u001b[37m\u001b[0m \u001b[1m1s\u001b[0m 7ms/step - diabetes_accuracy: 0.9227 - diabetes_loss: 0.0949 - heart_auc: 0.5588 - heart_loss: 0.2682 - loss: 0.3631 - val_diabetes_accuracy: 0.9042 - val_diabetes_loss: 0.0991 - val_heart_auc: 0.5085 - val_heart_loss: 0.3925 - val_loss: 0.5079\n",
      "Epoch 32/50\n",
      "\u001b[1m105/105\u001b[0m \u001b[32m━━━━━━━━━━━━━━━━━━━━\u001b[0m\u001b[37m\u001b[0m \u001b[1m1s\u001b[0m 7ms/step - diabetes_accuracy: 0.9261 - diabetes_loss: 0.0888 - heart_auc: 0.5518 - heart_loss: 0.3145 - loss: 0.4033 - val_diabetes_accuracy: 0.8958 - val_diabetes_loss: 0.1186 - val_heart_auc: 0.5431 - val_heart_loss: 0.2508 - val_loss: 0.3783\n",
      "Epoch 33/50\n",
      "\u001b[1m105/105\u001b[0m \u001b[32m━━━━━━━━━━━━━━━━━━━━\u001b[0m\u001b[37m\u001b[0m \u001b[1m1s\u001b[0m 7ms/step - diabetes_accuracy: 0.9258 - diabetes_loss: 0.0924 - heart_auc: 0.5685 - heart_loss: 0.2555 - loss: 0.3479 - val_diabetes_accuracy: 0.8994 - val_diabetes_loss: 0.1005 - val_heart_auc: 0.5764 - val_heart_loss: 0.2526 - val_loss: 0.3611\n",
      "Epoch 34/50\n",
      "\u001b[1m105/105\u001b[0m \u001b[32m━━━━━━━━━━━━━━━━━━━━\u001b[0m\u001b[37m\u001b[0m \u001b[1m1s\u001b[0m 7ms/step - diabetes_accuracy: 0.9278 - diabetes_loss: 0.0875 - heart_auc: 0.5574 - heart_loss: 0.2610 - loss: 0.3485 - val_diabetes_accuracy: 0.9042 - val_diabetes_loss: 0.0963 - val_heart_auc: 0.5489 - val_heart_loss: 0.2650 - val_loss: 0.3721\n",
      "Epoch 35/50\n",
      "\u001b[1m105/105\u001b[0m \u001b[32m━━━━━━━━━━━━━━━━━━━━\u001b[0m\u001b[37m\u001b[0m \u001b[1m1s\u001b[0m 8ms/step - diabetes_accuracy: 0.9256 - diabetes_loss: 0.0839 - heart_auc: 0.5607 - heart_loss: 0.2604 - loss: 0.3443 - val_diabetes_accuracy: 0.9078 - val_diabetes_loss: 0.0944 - val_heart_auc: 0.5353 - val_heart_loss: 0.3122 - val_loss: 0.4196\n",
      "Epoch 36/50\n",
      "\u001b[1m105/105\u001b[0m \u001b[32m━━━━━━━━━━━━━━━━━━━━\u001b[0m\u001b[37m\u001b[0m \u001b[1m1s\u001b[0m 7ms/step - diabetes_accuracy: 0.9291 - diabetes_loss: 0.0857 - heart_auc: 0.5596 - heart_loss: 0.2677 - loss: 0.3534 - val_diabetes_accuracy: 0.9138 - val_diabetes_loss: 0.0940 - val_heart_auc: 0.5500 - val_heart_loss: 0.2682 - val_loss: 0.3730\n",
      "Epoch 37/50\n",
      "\u001b[1m105/105\u001b[0m \u001b[32m━━━━━━━━━━━━━━━━━━━━\u001b[0m\u001b[37m\u001b[0m \u001b[1m1s\u001b[0m 8ms/step - diabetes_accuracy: 0.9279 - diabetes_loss: 0.0866 - heart_auc: 0.5610 - heart_loss: 0.2649 - loss: 0.3515 - val_diabetes_accuracy: 0.9066 - val_diabetes_loss: 0.0930 - val_heart_auc: 0.5281 - val_heart_loss: 0.2682 - val_loss: 0.3722\n",
      "Epoch 38/50\n",
      "\u001b[1m105/105\u001b[0m \u001b[32m━━━━━━━━━━━━━━━━━━━━\u001b[0m\u001b[37m\u001b[0m \u001b[1m1s\u001b[0m 7ms/step - diabetes_accuracy: 0.9280 - diabetes_loss: 0.0881 - heart_auc: 0.5330 - heart_loss: 0.2694 - loss: 0.3575 - val_diabetes_accuracy: 0.9042 - val_diabetes_loss: 0.0945 - val_heart_auc: 0.6054 - val_heart_loss: 0.2561 - val_loss: 0.3585\n",
      "Epoch 39/50\n",
      "\u001b[1m105/105\u001b[0m \u001b[32m━━━━━━━━━━━━━━━━━━━━\u001b[0m\u001b[37m\u001b[0m \u001b[1m1s\u001b[0m 8ms/step - diabetes_accuracy: 0.9221 - diabetes_loss: 0.0876 - heart_auc: 0.5738 - heart_loss: 0.2606 - loss: 0.3483 - val_diabetes_accuracy: 0.9066 - val_diabetes_loss: 0.0916 - val_heart_auc: 0.5876 - val_heart_loss: 0.2502 - val_loss: 0.3496\n",
      "Epoch 40/50\n",
      "\u001b[1m105/105\u001b[0m \u001b[32m━━━━━━━━━━━━━━━━━━━━\u001b[0m\u001b[37m\u001b[0m \u001b[1m1s\u001b[0m 7ms/step - diabetes_accuracy: 0.9327 - diabetes_loss: 0.0800 - heart_auc: 0.5835 - heart_loss: 0.2553 - loss: 0.3353 - val_diabetes_accuracy: 0.9090 - val_diabetes_loss: 0.0903 - val_heart_auc: 0.5809 - val_heart_loss: 0.3334 - val_loss: 0.4303\n",
      "Epoch 41/50\n",
      "\u001b[1m105/105\u001b[0m \u001b[32m━━━━━━━━━━━━━━━━━━━━\u001b[0m\u001b[37m\u001b[0m \u001b[1m1s\u001b[0m 7ms/step - diabetes_accuracy: 0.9291 - diabetes_loss: 0.0850 - heart_auc: 0.5691 - heart_loss: 0.2673 - loss: 0.3523 - val_diabetes_accuracy: 0.9006 - val_diabetes_loss: 0.0951 - val_heart_auc: 0.5754 - val_heart_loss: 0.2532 - val_loss: 0.3567\n",
      "Epoch 42/50\n",
      "\u001b[1m105/105\u001b[0m \u001b[32m━━━━━━━━━━━━━━━━━━━━\u001b[0m\u001b[37m\u001b[0m \u001b[1m1s\u001b[0m 7ms/step - diabetes_accuracy: 0.9245 - diabetes_loss: 0.0843 - heart_auc: 0.5773 - heart_loss: 0.2646 - loss: 0.3489 - val_diabetes_accuracy: 0.9138 - val_diabetes_loss: 0.0881 - val_heart_auc: 0.5975 - val_heart_loss: 0.2554 - val_loss: 0.3512\n",
      "Epoch 43/50\n",
      "\u001b[1m105/105\u001b[0m \u001b[32m━━━━━━━━━━━━━━━━━━━━\u001b[0m\u001b[37m\u001b[0m \u001b[1m1s\u001b[0m 8ms/step - diabetes_accuracy: 0.9253 - diabetes_loss: 0.0826 - heart_auc: 0.5716 - heart_loss: 0.2572 - loss: 0.3398 - val_diabetes_accuracy: 0.9078 - val_diabetes_loss: 0.0882 - val_heart_auc: 0.5814 - val_heart_loss: 0.2445 - val_loss: 0.3416\n",
      "Epoch 44/50\n",
      "\u001b[1m105/105\u001b[0m \u001b[32m━━━━━━━━━━━━━━━━━━━━\u001b[0m\u001b[37m\u001b[0m \u001b[1m1s\u001b[0m 7ms/step - diabetes_accuracy: 0.9261 - diabetes_loss: 0.0833 - heart_auc: 0.5687 - heart_loss: 0.2884 - loss: 0.3717 - val_diabetes_accuracy: 0.9102 - val_diabetes_loss: 0.0871 - val_heart_auc: 0.5977 - val_heart_loss: 0.2572 - val_loss: 0.3519\n",
      "Epoch 45/50\n",
      "\u001b[1m105/105\u001b[0m \u001b[32m━━━━━━━━━━━━━━━━━━━━\u001b[0m\u001b[37m\u001b[0m \u001b[1m1s\u001b[0m 7ms/step - diabetes_accuracy: 0.9243 - diabetes_loss: 0.0837 - heart_auc: 0.5650 - heart_loss: 0.2658 - loss: 0.3495 - val_diabetes_accuracy: 0.9078 - val_diabetes_loss: 0.0873 - val_heart_auc: 0.5681 - val_heart_loss: 0.2599 - val_loss: 0.3575\n",
      "Epoch 46/50\n",
      "\u001b[1m105/105\u001b[0m \u001b[32m━━━━━━━━━━━━━━━━━━━━\u001b[0m\u001b[37m\u001b[0m \u001b[1m1s\u001b[0m 7ms/step - diabetes_accuracy: 0.9328 - diabetes_loss: 0.0772 - heart_auc: 0.5563 - heart_loss: 0.2916 - loss: 0.3688 - val_diabetes_accuracy: 0.9126 - val_diabetes_loss: 0.0848 - val_heart_auc: 0.5929 - val_heart_loss: 0.2676 - val_loss: 0.3597\n",
      "Epoch 47/50\n",
      "\u001b[1m105/105\u001b[0m \u001b[32m━━━━━━━━━━━━━━━━━━━━\u001b[0m\u001b[37m\u001b[0m \u001b[1m1s\u001b[0m 7ms/step - diabetes_accuracy: 0.9303 - diabetes_loss: 0.0779 - heart_auc: 0.5806 - heart_loss: 0.3044 - loss: 0.3823 - val_diabetes_accuracy: 0.9078 - val_diabetes_loss: 0.0865 - val_heart_auc: 0.5914 - val_heart_loss: 0.2444 - val_loss: 0.3400\n",
      "Epoch 48/50\n",
      "\u001b[1m105/105\u001b[0m \u001b[32m━━━━━━━━━━━━━━━━━━━━\u001b[0m\u001b[37m\u001b[0m \u001b[1m1s\u001b[0m 6ms/step - diabetes_accuracy: 0.9327 - diabetes_loss: 0.0759 - heart_auc: 0.5900 - heart_loss: 0.2633 - loss: 0.3391 - val_diabetes_accuracy: 0.9317 - val_diabetes_loss: 0.0858 - val_heart_auc: 0.5616 - val_heart_loss: 0.2949 - val_loss: 0.3927\n",
      "Epoch 49/50\n",
      "\u001b[1m105/105\u001b[0m \u001b[32m━━━━━━━━━━━━━━━━━━━━\u001b[0m\u001b[37m\u001b[0m \u001b[1m1s\u001b[0m 7ms/step - diabetes_accuracy: 0.9340 - diabetes_loss: 0.0758 - heart_auc: 0.5695 - heart_loss: 0.2618 - loss: 0.3377 - val_diabetes_accuracy: 0.9066 - val_diabetes_loss: 0.0871 - val_heart_auc: 0.5467 - val_heart_loss: 0.2797 - val_loss: 0.3783\n",
      "Epoch 50/50\n",
      "\u001b[1m105/105\u001b[0m \u001b[32m━━━━━━━━━━━━━━━━━━━━\u001b[0m\u001b[37m\u001b[0m \u001b[1m1s\u001b[0m 8ms/step - diabetes_accuracy: 0.9311 - diabetes_loss: 0.0799 - heart_auc: 0.5530 - heart_loss: 0.3026 - loss: 0.3825 - val_diabetes_accuracy: 0.9078 - val_diabetes_loss: 0.0852 - val_heart_auc: 0.5815 - val_heart_loss: 0.2448 - val_loss: 0.3386\n"
     ]
    }
   ],
   "source": [
    "history = model.fit(\n",
    "    [X_train_d[shared_features], X_train_d[diabetes_specific], X_train_h[heart_specific]],\n",
    "    [y_train_d, y_train_h],\n",
    "    validation_data=(\n",
    "        [X_test_d[shared_features], X_test_d[diabetes_specific], X_test_h[heart_specific]],\n",
    "        [y_test_d, y_test_h]\n",
    "    ),\n",
    "    epochs=50,\n",
    "    batch_size=32,\n",
    ")"
   ]
  },
  {
   "cell_type": "code",
   "execution_count": 87,
   "id": "e82d651c-273f-4b5f-9594-6f735427a5ca",
   "metadata": {},
   "outputs": [
    {
     "name": "stdout",
     "output_type": "stream",
     "text": [
      "\u001b[1m23/27\u001b[0m \u001b[32m━━━━━━━━━━━━━━━━━\u001b[0m\u001b[37m━━━\u001b[0m \u001b[1m0s\u001b[0m 2ms/step  "
     ]
    },
    {
     "name": "stderr",
     "output_type": "stream",
     "text": [
      "C:\\Users\\manan\\anaconda3\\Lib\\site-packages\\keras\\src\\models\\functional.py:225: UserWarning: The structure of `inputs` doesn't match the expected structure: ['shared_input', 'diabetes_input', 'heart_input']. Received: the structure of inputs=('*', '*', '*')\n",
      "  warnings.warn(\n"
     ]
    },
    {
     "name": "stdout",
     "output_type": "stream",
     "text": [
      "\u001b[1m27/27\u001b[0m \u001b[32m━━━━━━━━━━━━━━━━━━━━\u001b[0m\u001b[37m\u001b[0m \u001b[1m0s\u001b[0m 7ms/step\n",
      "Diabetes AUC: 0.907861577232774\n",
      "              precision    recall  f1-score   support\n",
      "\n",
      "           0       0.91      1.00      0.95       748\n",
      "           1       0.86      0.14      0.24        87\n",
      "\n",
      "    accuracy                           0.91       835\n",
      "   macro avg       0.88      0.57      0.59       835\n",
      "weighted avg       0.90      0.91      0.88       835\n",
      "\n",
      "\u001b[1m27/27\u001b[0m \u001b[32m━━━━━━━━━━━━━━━━━━━━\u001b[0m\u001b[37m\u001b[0m \u001b[1m0s\u001b[0m 2ms/step\n",
      "\n",
      "Heart Disease AUC: 0.6316456563442038\n",
      "              precision    recall  f1-score   support\n",
      "\n",
      "           0       0.86      0.99      0.92       712\n",
      "           1       0.50      0.03      0.06       123\n",
      "\n",
      "    accuracy                           0.85       835\n",
      "   macro avg       0.68      0.51      0.49       835\n",
      "weighted avg       0.80      0.85      0.79       835\n",
      "\n"
     ]
    }
   ],
   "source": [
    "from sklearn.metrics import roc_auc_score, classification_report\n",
    "\n",
    "# Diabetes evaluation\n",
    "diabetes_pred = model.predict([X_test_d[shared_features], X_test_d[diabetes_specific], np.zeros_like(X_test_h[heart_specific])])[0]\n",
    "print(\"Diabetes AUC:\", roc_auc_score(y_test_d, diabetes_pred))\n",
    "print(classification_report(y_test_d, np.round(diabetes_pred)))\n",
    "\n",
    "# Heart disease evaluation\n",
    "heart_pred = model.predict([X_test_h[shared_features], np.zeros_like(X_test_d[diabetes_specific]), X_test_h[heart_specific]])[1]\n",
    "print(\"\\nHeart Disease AUC:\", roc_auc_score(y_test_h, heart_pred))\n",
    "print(classification_report(y_test_h, np.round(heart_pred)))"
   ]
  },
  {
   "cell_type": "code",
   "execution_count": 92,
   "id": "2d054455-0804-4773-9653-832b6437322f",
   "metadata": {},
   "outputs": [
    {
     "name": "stdout",
     "output_type": "stream",
     "text": [
      "Collecting shap\n",
      "  Downloading shap-0.47.1-cp312-cp312-win_amd64.whl.metadata (25 kB)\n",
      "Requirement already satisfied: numpy in c:\\users\\manan\\anaconda3\\lib\\site-packages (from shap) (1.26.4)\n",
      "Requirement already satisfied: scipy in c:\\users\\manan\\anaconda3\\lib\\site-packages (from shap) (1.14.1)\n",
      "Requirement already satisfied: scikit-learn in c:\\users\\manan\\anaconda3\\lib\\site-packages (from shap) (1.4.2)\n",
      "Requirement already satisfied: pandas in c:\\users\\manan\\anaconda3\\lib\\site-packages (from shap) (2.2.2)\n",
      "Requirement already satisfied: tqdm>=4.27.0 in c:\\users\\manan\\anaconda3\\lib\\site-packages (from shap) (4.66.4)\n",
      "Requirement already satisfied: packaging>20.9 in c:\\users\\manan\\anaconda3\\lib\\site-packages (from shap) (23.2)\n",
      "Collecting slicer==0.0.8 (from shap)\n",
      "  Downloading slicer-0.0.8-py3-none-any.whl.metadata (4.0 kB)\n",
      "Requirement already satisfied: numba>=0.54 in c:\\users\\manan\\anaconda3\\lib\\site-packages (from shap) (0.59.1)\n",
      "Requirement already satisfied: cloudpickle in c:\\users\\manan\\anaconda3\\lib\\site-packages (from shap) (2.2.1)\n",
      "Requirement already satisfied: typing-extensions in c:\\users\\manan\\anaconda3\\lib\\site-packages (from shap) (4.11.0)\n",
      "Requirement already satisfied: llvmlite<0.43,>=0.42.0dev0 in c:\\users\\manan\\anaconda3\\lib\\site-packages (from numba>=0.54->shap) (0.42.0)\n",
      "Requirement already satisfied: colorama in c:\\users\\manan\\anaconda3\\lib\\site-packages (from tqdm>=4.27.0->shap) (0.4.6)\n",
      "Requirement already satisfied: python-dateutil>=2.8.2 in c:\\users\\manan\\anaconda3\\lib\\site-packages (from pandas->shap) (2.9.0.post0)\n",
      "Requirement already satisfied: pytz>=2020.1 in c:\\users\\manan\\anaconda3\\lib\\site-packages (from pandas->shap) (2024.1)\n",
      "Requirement already satisfied: tzdata>=2022.7 in c:\\users\\manan\\anaconda3\\lib\\site-packages (from pandas->shap) (2023.3)\n",
      "Requirement already satisfied: joblib>=1.2.0 in c:\\users\\manan\\anaconda3\\lib\\site-packages (from scikit-learn->shap) (1.4.2)\n",
      "Requirement already satisfied: threadpoolctl>=2.0.0 in c:\\users\\manan\\anaconda3\\lib\\site-packages (from scikit-learn->shap) (2.2.0)\n",
      "Requirement already satisfied: six>=1.5 in c:\\users\\manan\\anaconda3\\lib\\site-packages (from python-dateutil>=2.8.2->pandas->shap) (1.16.0)\n",
      "Downloading shap-0.47.1-cp312-cp312-win_amd64.whl (490 kB)\n",
      "   ---------------------------------------- 0.0/490.6 kB ? eta -:--:--\n",
      "   --- ----------------------------------- 41.0/490.6 kB 991.0 kB/s eta 0:00:01\n",
      "   ---------------------------------------  481.3/490.6 kB 7.5 MB/s eta 0:00:01\n",
      "   ---------------------------------------- 490.6/490.6 kB 6.2 MB/s eta 0:00:00\n",
      "Downloading slicer-0.0.8-py3-none-any.whl (15 kB)\n",
      "Installing collected packages: slicer, shap\n",
      "Successfully installed shap-0.47.1 slicer-0.0.8\n"
     ]
    }
   ],
   "source": [
    "!pip install shap"
   ]
  },
  {
   "cell_type": "code",
   "execution_count": 96,
   "id": "8ce5af71-9d82-4c44-a74c-db0effcdb880",
   "metadata": {},
   "outputs": [],
   "source": [
    "def predict_risk(age, sex, bmi, hba1c=None, glucose=None, sysbp=None, diabp=None, chol=None):\n",
    "    # Scale shared features\n",
    "    shared_scaled = scaler.transform([[age, sex, bmi]])\n",
    "    \n",
    "    # Prepare inputs (handle missing features)\n",
    "    diabetes_input = np.array([[hba1c, glucose]]) if hba1c else np.zeros((1, len(diabetes_specific)))\n",
    "    heart_input = np.array([[sysbp, diabp, chol]]) if sysbp else np.zeros((1, len(heart_specific)))\n",
    "    \n",
    "    # Predict\n",
    "    diabetes_prob, heart_prob = model.predict(\n",
    "        [shared_scaled, diabetes_input, heart_input],\n",
    "        verbose=0\n",
    "    )\n",
    "    \n",
    "    return {\n",
    "        'diabetes_risk': float(diabetes_prob[0][0] * 100),\n",
    "        'heart_disease_risk': float(heart_prob[0][0] * 100)\n",
    "    }"
   ]
  },
  {
   "cell_type": "code",
   "execution_count": 98,
   "id": "86298286-0796-4449-a2e8-4de12e96d973",
   "metadata": {},
   "outputs": [
    {
     "name": "stdout",
     "output_type": "stream",
     "text": [
      "\n",
      "Sample Prediction:\n",
      "{'diabetes_risk': 11.785471439361572, 'heart_disease_risk': 13.291500508785248}\n"
     ]
    },
    {
     "name": "stderr",
     "output_type": "stream",
     "text": [
      "C:\\Users\\manan\\anaconda3\\Lib\\site-packages\\sklearn\\base.py:493: UserWarning: X does not have valid feature names, but StandardScaler was fitted with feature names\n",
      "  warnings.warn(\n",
      "C:\\Users\\manan\\anaconda3\\Lib\\site-packages\\keras\\src\\models\\functional.py:225: UserWarning: The structure of `inputs` doesn't match the expected structure: ['shared_input', 'diabetes_input', 'heart_input']. Received: the structure of inputs=('*', '*', '*')\n",
      "  warnings.warn(\n"
     ]
    }
   ],
   "source": [
    "print(\"\\nSample Prediction:\")\n",
    "print(predict_risk(\n",
    "    age=55,\n",
    "    sex=1,  # male\n",
    "    bmi=28,\n",
    "    hba1c=6.5,\n",
    "    glucose=140,\n",
    "    sysbp=145,\n",
    "    diabp=90,\n",
    "    chol=240\n",
    "))"
   ]
  },
  {
   "cell_type": "code",
   "execution_count": null,
   "id": "5d3c2275-d71f-4c01-b8c3-94655670478f",
   "metadata": {},
   "outputs": [],
   "source": [
    "loaded_model = tf.keras.models.load_model('mtl_model.keras')\n",
    "\n",
    "model.load_weights('model_weights.h5')  \n",
    "\n",
    "# Load TFLite model\n",
    "interpreter = tf.lite.Interpreter(model_path=\"model.tflite\")\n",
    "interpreter.allocate_tensors()"
   ]
  }
 ],
 "metadata": {
  "kernelspec": {
   "display_name": "Python 3 (ipykernel)",
   "language": "python",
   "name": "python3"
  },
  "language_info": {
   "codemirror_mode": {
    "name": "ipython",
    "version": 3
   },
   "file_extension": ".py",
   "mimetype": "text/x-python",
   "name": "python",
   "nbconvert_exporter": "python",
   "pygments_lexer": "ipython3",
   "version": "3.12.4"
  }
 },
 "nbformat": 4,
 "nbformat_minor": 5
}
